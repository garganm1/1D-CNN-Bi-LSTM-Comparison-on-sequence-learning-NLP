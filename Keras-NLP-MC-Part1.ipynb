{
 "cells": [
  {
   "cell_type": "markdown",
   "metadata": {
    "id": "my58r8FDGfYo"
   },
   "source": [
    "# Deep Learning for Article Classification with Publication using Kaggle Data\n",
    "\n",
    "Here is the link for data - https://www.kaggle.com/snapcrack/all-the-news (courtesy of Andrew Thompson)\n",
    "\n",
    "------------\n",
    "\n",
    "**We will build a text classifier with Keras and 1-D Convolutional Neural Networks for the Kaggle dataset containing information such as title, author, publication and the content of the article. This data set includes several publications but we focus on top 5 publications (all US publishers) as labels acting for the title and content as features. Below is the description of labels.**\n",
    "\n",
    "    Label\tDescription\n",
    "    0\t    Breitbart\n",
    "    1\t    New York Post\n",
    "    2\t    NPR (National Public Radio)\n",
    "    3\t    Washington Post\n",
    "    4\t    Reuters"
   ]
  },
  {
   "cell_type": "markdown",
   "metadata": {
    "id": "KEKxUejCH8f9"
   },
   "source": [
    "## The Data\n",
    "\n",
    "**The code below is meant to connect to drive for accessing the dataset**"
   ]
  },
  {
   "cell_type": "code",
   "execution_count": 1,
   "metadata": {
    "colab": {
     "base_uri": "https://localhost:8080/"
    },
    "id": "nkGSurRiQ0qu",
    "outputId": "e397f9ad-3b3a-4543-8b6a-65651a90f10d"
   },
   "outputs": [
    {
     "name": "stdout",
     "output_type": "stream",
     "text": [
      "Mounted at /content/drive\n"
     ]
    }
   ],
   "source": [
    "from google.colab import drive\n",
    "drive.mount('/content/drive')"
   ]
  },
  {
   "cell_type": "markdown",
   "metadata": {
    "id": "Eh9wEpVrIMTA"
   },
   "source": [
    "### Importing some libraries"
   ]
  },
  {
   "cell_type": "code",
   "execution_count": 2,
   "metadata": {
    "id": "4cnEVGL_R7nL"
   },
   "outputs": [],
   "source": [
    "import os\n",
    "import pandas as pd\n",
    "import numpy as np\n",
    "import matplotlib.pyplot as plt\n",
    "import seaborn as sns \n",
    "\n",
    "## For Cleaning and Decoding\n",
    "import re\n",
    "import html\n",
    "import unicodedata\n",
    "import string\n",
    "import glob\n",
    "\n",
    "from tqdm import tqdm"
   ]
  },
  {
   "cell_type": "code",
   "execution_count": 3,
   "metadata": {
    "id": "drpf2AH7f5ii"
   },
   "outputs": [],
   "source": [
    "## For Preparing Features to Model\n",
    "import nltk\n",
    "\n",
    "from nltk.tokenize import RegexpTokenizer\n",
    "from nltk.stem.snowball import SnowballStemmer\n",
    "\n",
    "from sklearn.feature_extraction.text import CountVectorizer\n",
    "from sklearn.feature_extraction.text import TfidfVectorizer\n",
    "\n",
    "\n",
    "## For Bonus Section\n",
    "try:\n",
    "    from gensim.models import word2vec\n",
    "except:\n",
    "    !pip install gensim\n",
    "    from gensim.models import word2vec\n",
    "\n",
    "## For Data Exploration\n",
    "try:\n",
    "    from wordcloud import WordCloud\n",
    "except:\n",
    "    !pip install wordcloud\n",
    "    from wordcloud import WordCloud"
   ]
  },
  {
   "cell_type": "code",
   "execution_count": 4,
   "metadata": {
    "id": "9KUjvxc65Fj8"
   },
   "outputs": [],
   "source": [
    "from textblob import Word\n",
    "from string import punctuation\n",
    "from gensim.parsing.preprocessing import STOPWORDS"
   ]
  },
  {
   "cell_type": "code",
   "execution_count": 5,
   "metadata": {
    "colab": {
     "base_uri": "https://localhost:8080/"
    },
    "id": "7o79sQeigFZf",
    "outputId": "a792e9a0-a352-4351-c603-aeb42dd3def4"
   },
   "outputs": [
    {
     "name": "stdout",
     "output_type": "stream",
     "text": [
      "[nltk_data] Downloading package stopwords to /root/nltk_data...\n",
      "[nltk_data]   Unzipping corpora/stopwords.zip.\n"
     ]
    }
   ],
   "source": [
    "nltk.download(\"stopwords\")\n",
    "from nltk.corpus import stopwords"
   ]
  },
  {
   "cell_type": "markdown",
   "metadata": {
    "id": "Ced6r7PlIUbQ"
   },
   "source": [
    "**Use your own gdrive directory to access the files you store on your gdrive**\n",
    "\n",
    "**Or just directly have it ready in your working directory**"
   ]
  },
  {
   "cell_type": "code",
   "execution_count": 15,
   "metadata": {
    "id": "oEAxXqLtTgrE"
   },
   "outputs": [],
   "source": [
    "articles_loc = glob.glob(\"./drive/MyDrive/UofT/Deep NN Projects/Keras-ArticlePublishersData-1D-CNN-MC/articles/*.csv\")"
   ]
  },
  {
   "cell_type": "code",
   "execution_count": 16,
   "metadata": {
    "colab": {
     "base_uri": "https://localhost:8080/"
    },
    "id": "M6Mi6WLZ5_Ws",
    "outputId": "5c378d4b-26d6-4a45-af2b-7838607df10a"
   },
   "outputs": [
    {
     "data": {
      "text/plain": [
       "['./drive/MyDrive/UofT/Deep NN Projects/Keras-ArticlePublishersData-1D-CNN-MC/articles/articles2.csv',\n",
       " './drive/MyDrive/UofT/Deep NN Projects/Keras-ArticlePublishersData-1D-CNN-MC/articles/articles1.csv',\n",
       " './drive/MyDrive/UofT/Deep NN Projects/Keras-ArticlePublishersData-1D-CNN-MC/articles/articles3.csv']"
      ]
     },
     "execution_count": 16,
     "metadata": {
      "tags": []
     },
     "output_type": "execute_result"
    }
   ],
   "source": [
    "articles_loc"
   ]
  },
  {
   "cell_type": "code",
   "execution_count": 17,
   "metadata": {
    "colab": {
     "base_uri": "https://localhost:8080/",
     "height": 204
    },
    "id": "EGlQ22UVT1UT",
    "outputId": "68d1cec6-7ac7-4d8b-9490-e793054bfeeb"
   },
   "outputs": [
    {
     "data": {
      "text/html": [
       "<div>\n",
       "<style scoped>\n",
       "    .dataframe tbody tr th:only-of-type {\n",
       "        vertical-align: middle;\n",
       "    }\n",
       "\n",
       "    .dataframe tbody tr th {\n",
       "        vertical-align: top;\n",
       "    }\n",
       "\n",
       "    .dataframe thead th {\n",
       "        text-align: right;\n",
       "    }\n",
       "</style>\n",
       "<table border=\"1\" class=\"dataframe\">\n",
       "  <thead>\n",
       "    <tr style=\"text-align: right;\">\n",
       "      <th></th>\n",
       "      <th>Unnamed: 0</th>\n",
       "      <th>id</th>\n",
       "      <th>title</th>\n",
       "      <th>publication</th>\n",
       "      <th>author</th>\n",
       "      <th>date</th>\n",
       "      <th>year</th>\n",
       "      <th>month</th>\n",
       "      <th>url</th>\n",
       "      <th>content</th>\n",
       "    </tr>\n",
       "  </thead>\n",
       "  <tbody>\n",
       "    <tr>\n",
       "      <th>0</th>\n",
       "      <td>53293</td>\n",
       "      <td>73471</td>\n",
       "      <td>Patriots Day Is Best When It Digs Past the Her...</td>\n",
       "      <td>Atlantic</td>\n",
       "      <td>David Sims</td>\n",
       "      <td>2017-01-11</td>\n",
       "      <td>2017.0</td>\n",
       "      <td>1.0</td>\n",
       "      <td>NaN</td>\n",
       "      <td>Patriots Day, Peter Berg’s new thriller that r...</td>\n",
       "    </tr>\n",
       "    <tr>\n",
       "      <th>1</th>\n",
       "      <td>53294</td>\n",
       "      <td>73472</td>\n",
       "      <td>A Break in the Search for the Origin of Comple...</td>\n",
       "      <td>Atlantic</td>\n",
       "      <td>Ed Yong</td>\n",
       "      <td>2017-01-11</td>\n",
       "      <td>2017.0</td>\n",
       "      <td>1.0</td>\n",
       "      <td>NaN</td>\n",
       "      <td>In Norse mythology, humans and our world were ...</td>\n",
       "    </tr>\n",
       "    <tr>\n",
       "      <th>2</th>\n",
       "      <td>53295</td>\n",
       "      <td>73474</td>\n",
       "      <td>Obama’s Ingenious Mention of Atticus Finch</td>\n",
       "      <td>Atlantic</td>\n",
       "      <td>Spencer Kornhaber</td>\n",
       "      <td>2017-01-11</td>\n",
       "      <td>2017.0</td>\n",
       "      <td>1.0</td>\n",
       "      <td>NaN</td>\n",
       "      <td>“If our democracy is to work in this increasin...</td>\n",
       "    </tr>\n",
       "    <tr>\n",
       "      <th>3</th>\n",
       "      <td>53296</td>\n",
       "      <td>73475</td>\n",
       "      <td>Donald Trump Meets, and Assails, the Press</td>\n",
       "      <td>Atlantic</td>\n",
       "      <td>David A. Graham</td>\n",
       "      <td>2017-01-11</td>\n",
       "      <td>2017.0</td>\n",
       "      <td>1.0</td>\n",
       "      <td>NaN</td>\n",
       "      <td>Updated on January 11 at 5:05 p. m. In his fir...</td>\n",
       "    </tr>\n",
       "    <tr>\n",
       "      <th>4</th>\n",
       "      <td>53297</td>\n",
       "      <td>73476</td>\n",
       "      <td>Trump: ’I Think’ Hacking Was Russian</td>\n",
       "      <td>Atlantic</td>\n",
       "      <td>Kaveh Waddell</td>\n",
       "      <td>2017-01-11</td>\n",
       "      <td>2017.0</td>\n",
       "      <td>1.0</td>\n",
       "      <td>NaN</td>\n",
       "      <td>Updated at 12:25 p. m. After months of equivoc...</td>\n",
       "    </tr>\n",
       "  </tbody>\n",
       "</table>\n",
       "</div>"
      ],
      "text/plain": [
       "   Unnamed: 0     id  ...  url                                            content\n",
       "0       53293  73471  ...  NaN  Patriots Day, Peter Berg’s new thriller that r...\n",
       "1       53294  73472  ...  NaN  In Norse mythology, humans and our world were ...\n",
       "2       53295  73474  ...  NaN  “If our democracy is to work in this increasin...\n",
       "3       53296  73475  ...  NaN  Updated on January 11 at 5:05 p. m. In his fir...\n",
       "4       53297  73476  ...  NaN  Updated at 12:25 p. m. After months of equivoc...\n",
       "\n",
       "[5 rows x 10 columns]"
      ]
     },
     "execution_count": 17,
     "metadata": {
      "tags": []
     },
     "output_type": "execute_result"
    }
   ],
   "source": [
    "df1 = pd.read_csv(articles_loc[0])\n",
    "df1.head()"
   ]
  },
  {
   "cell_type": "code",
   "execution_count": 18,
   "metadata": {
    "colab": {
     "base_uri": "https://localhost:8080/",
     "height": 204
    },
    "id": "hbjIjMeFT2_Y",
    "outputId": "3c75da36-6436-4ea5-a601-99e2d47954e8"
   },
   "outputs": [
    {
     "data": {
      "text/html": [
       "<div>\n",
       "<style scoped>\n",
       "    .dataframe tbody tr th:only-of-type {\n",
       "        vertical-align: middle;\n",
       "    }\n",
       "\n",
       "    .dataframe tbody tr th {\n",
       "        vertical-align: top;\n",
       "    }\n",
       "\n",
       "    .dataframe thead th {\n",
       "        text-align: right;\n",
       "    }\n",
       "</style>\n",
       "<table border=\"1\" class=\"dataframe\">\n",
       "  <thead>\n",
       "    <tr style=\"text-align: right;\">\n",
       "      <th></th>\n",
       "      <th>Unnamed: 0</th>\n",
       "      <th>id</th>\n",
       "      <th>title</th>\n",
       "      <th>publication</th>\n",
       "      <th>author</th>\n",
       "      <th>date</th>\n",
       "      <th>year</th>\n",
       "      <th>month</th>\n",
       "      <th>url</th>\n",
       "      <th>content</th>\n",
       "    </tr>\n",
       "  </thead>\n",
       "  <tbody>\n",
       "    <tr>\n",
       "      <th>0</th>\n",
       "      <td>0</td>\n",
       "      <td>17283</td>\n",
       "      <td>House Republicans Fret About Winning Their Hea...</td>\n",
       "      <td>New York Times</td>\n",
       "      <td>Carl Hulse</td>\n",
       "      <td>2016-12-31</td>\n",
       "      <td>2016.0</td>\n",
       "      <td>12.0</td>\n",
       "      <td>NaN</td>\n",
       "      <td>WASHINGTON  —   Congressional Republicans have...</td>\n",
       "    </tr>\n",
       "    <tr>\n",
       "      <th>1</th>\n",
       "      <td>1</td>\n",
       "      <td>17284</td>\n",
       "      <td>Rift Between Officers and Residents as Killing...</td>\n",
       "      <td>New York Times</td>\n",
       "      <td>Benjamin Mueller and Al Baker</td>\n",
       "      <td>2017-06-19</td>\n",
       "      <td>2017.0</td>\n",
       "      <td>6.0</td>\n",
       "      <td>NaN</td>\n",
       "      <td>After the bullet shells get counted, the blood...</td>\n",
       "    </tr>\n",
       "    <tr>\n",
       "      <th>2</th>\n",
       "      <td>2</td>\n",
       "      <td>17285</td>\n",
       "      <td>Tyrus Wong, ‘Bambi’ Artist Thwarted by Racial ...</td>\n",
       "      <td>New York Times</td>\n",
       "      <td>Margalit Fox</td>\n",
       "      <td>2017-01-06</td>\n",
       "      <td>2017.0</td>\n",
       "      <td>1.0</td>\n",
       "      <td>NaN</td>\n",
       "      <td>When Walt Disney’s “Bambi” opened in 1942, cri...</td>\n",
       "    </tr>\n",
       "    <tr>\n",
       "      <th>3</th>\n",
       "      <td>3</td>\n",
       "      <td>17286</td>\n",
       "      <td>Among Deaths in 2016, a Heavy Toll in Pop Musi...</td>\n",
       "      <td>New York Times</td>\n",
       "      <td>William McDonald</td>\n",
       "      <td>2017-04-10</td>\n",
       "      <td>2017.0</td>\n",
       "      <td>4.0</td>\n",
       "      <td>NaN</td>\n",
       "      <td>Death may be the great equalizer, but it isn’t...</td>\n",
       "    </tr>\n",
       "    <tr>\n",
       "      <th>4</th>\n",
       "      <td>4</td>\n",
       "      <td>17287</td>\n",
       "      <td>Kim Jong-un Says North Korea Is Preparing to T...</td>\n",
       "      <td>New York Times</td>\n",
       "      <td>Choe Sang-Hun</td>\n",
       "      <td>2017-01-02</td>\n",
       "      <td>2017.0</td>\n",
       "      <td>1.0</td>\n",
       "      <td>NaN</td>\n",
       "      <td>SEOUL, South Korea  —   North Korea’s leader, ...</td>\n",
       "    </tr>\n",
       "  </tbody>\n",
       "</table>\n",
       "</div>"
      ],
      "text/plain": [
       "   Unnamed: 0     id  ... url                                            content\n",
       "0           0  17283  ... NaN  WASHINGTON  —   Congressional Republicans have...\n",
       "1           1  17284  ... NaN  After the bullet shells get counted, the blood...\n",
       "2           2  17285  ... NaN  When Walt Disney’s “Bambi” opened in 1942, cri...\n",
       "3           3  17286  ... NaN  Death may be the great equalizer, but it isn’t...\n",
       "4           4  17287  ... NaN  SEOUL, South Korea  —   North Korea’s leader, ...\n",
       "\n",
       "[5 rows x 10 columns]"
      ]
     },
     "execution_count": 18,
     "metadata": {
      "tags": []
     },
     "output_type": "execute_result"
    }
   ],
   "source": [
    "df2 = pd.read_csv(articles_loc[1])\n",
    "df2.head()"
   ]
  },
  {
   "cell_type": "code",
   "execution_count": 19,
   "metadata": {
    "colab": {
     "base_uri": "https://localhost:8080/",
     "height": 204
    },
    "id": "nfy7QdPuWKqC",
    "outputId": "c7076176-a8a4-40c5-d572-5c204b577f3d"
   },
   "outputs": [
    {
     "data": {
      "text/html": [
       "<div>\n",
       "<style scoped>\n",
       "    .dataframe tbody tr th:only-of-type {\n",
       "        vertical-align: middle;\n",
       "    }\n",
       "\n",
       "    .dataframe tbody tr th {\n",
       "        vertical-align: top;\n",
       "    }\n",
       "\n",
       "    .dataframe thead th {\n",
       "        text-align: right;\n",
       "    }\n",
       "</style>\n",
       "<table border=\"1\" class=\"dataframe\">\n",
       "  <thead>\n",
       "    <tr style=\"text-align: right;\">\n",
       "      <th></th>\n",
       "      <th>Unnamed: 0</th>\n",
       "      <th>id</th>\n",
       "      <th>title</th>\n",
       "      <th>publication</th>\n",
       "      <th>author</th>\n",
       "      <th>date</th>\n",
       "      <th>year</th>\n",
       "      <th>month</th>\n",
       "      <th>url</th>\n",
       "      <th>content</th>\n",
       "    </tr>\n",
       "  </thead>\n",
       "  <tbody>\n",
       "    <tr>\n",
       "      <th>0</th>\n",
       "      <td>103459</td>\n",
       "      <td>151908</td>\n",
       "      <td>Alton Sterling’s son: ’Everyone needs to prote...</td>\n",
       "      <td>Guardian</td>\n",
       "      <td>Jessica Glenza</td>\n",
       "      <td>2016-07-13</td>\n",
       "      <td>2016.0</td>\n",
       "      <td>7.0</td>\n",
       "      <td>https://www.theguardian.com/us-news/2016/jul/1...</td>\n",
       "      <td>The son of a Louisiana man whose father was sh...</td>\n",
       "    </tr>\n",
       "    <tr>\n",
       "      <th>1</th>\n",
       "      <td>103460</td>\n",
       "      <td>151909</td>\n",
       "      <td>Shakespeare’s first four folios sell at auctio...</td>\n",
       "      <td>Guardian</td>\n",
       "      <td>NaN</td>\n",
       "      <td>2016-05-25</td>\n",
       "      <td>2016.0</td>\n",
       "      <td>5.0</td>\n",
       "      <td>https://www.theguardian.com/culture/2016/may/2...</td>\n",
       "      <td>Copies of William Shakespeare’s first four boo...</td>\n",
       "    </tr>\n",
       "    <tr>\n",
       "      <th>2</th>\n",
       "      <td>103461</td>\n",
       "      <td>151910</td>\n",
       "      <td>My grandmother’s death saved me from a life of...</td>\n",
       "      <td>Guardian</td>\n",
       "      <td>Robert Pendry</td>\n",
       "      <td>2016-10-31</td>\n",
       "      <td>2016.0</td>\n",
       "      <td>10.0</td>\n",
       "      <td>https://www.theguardian.com/commentisfree/2016...</td>\n",
       "      <td>Debt: $20, 000, Source: College, credit cards,...</td>\n",
       "    </tr>\n",
       "    <tr>\n",
       "      <th>3</th>\n",
       "      <td>103462</td>\n",
       "      <td>151911</td>\n",
       "      <td>I feared my life lacked meaning. Cancer pushed...</td>\n",
       "      <td>Guardian</td>\n",
       "      <td>Bradford Frost</td>\n",
       "      <td>2016-11-26</td>\n",
       "      <td>2016.0</td>\n",
       "      <td>11.0</td>\n",
       "      <td>https://www.theguardian.com/commentisfree/2016...</td>\n",
       "      <td>It was late. I was drunk, nearing my 35th birt...</td>\n",
       "    </tr>\n",
       "    <tr>\n",
       "      <th>4</th>\n",
       "      <td>103463</td>\n",
       "      <td>151912</td>\n",
       "      <td>Texas man serving life sentence innocent of do...</td>\n",
       "      <td>Guardian</td>\n",
       "      <td>NaN</td>\n",
       "      <td>2016-08-20</td>\n",
       "      <td>2016.0</td>\n",
       "      <td>8.0</td>\n",
       "      <td>https://www.theguardian.com/us-news/2016/aug/2...</td>\n",
       "      <td>A central Texas man serving a life sentence fo...</td>\n",
       "    </tr>\n",
       "  </tbody>\n",
       "</table>\n",
       "</div>"
      ],
      "text/plain": [
       "   Unnamed: 0  ...                                            content\n",
       "0      103459  ...  The son of a Louisiana man whose father was sh...\n",
       "1      103460  ...  Copies of William Shakespeare’s first four boo...\n",
       "2      103461  ...  Debt: $20, 000, Source: College, credit cards,...\n",
       "3      103462  ...  It was late. I was drunk, nearing my 35th birt...\n",
       "4      103463  ...  A central Texas man serving a life sentence fo...\n",
       "\n",
       "[5 rows x 10 columns]"
      ]
     },
     "execution_count": 19,
     "metadata": {
      "tags": []
     },
     "output_type": "execute_result"
    }
   ],
   "source": [
    "df3 = pd.read_csv(articles_loc[2])\n",
    "df3.head()"
   ]
  },
  {
   "cell_type": "code",
   "execution_count": 20,
   "metadata": {
    "colab": {
     "base_uri": "https://localhost:8080/"
    },
    "id": "3wx44kL_WMx-",
    "outputId": "f181b966-12db-40d6-a10e-97b68c96fbd5"
   },
   "outputs": [
    {
     "data": {
      "text/plain": [
       "(array([ True,  True,  True,  True,  True,  True,  True,  True,  True,\n",
       "         True]),\n",
       " array([ True,  True,  True,  True,  True,  True,  True,  True,  True,\n",
       "         True]))"
      ]
     },
     "execution_count": 20,
     "metadata": {
      "tags": []
     },
     "output_type": "execute_result"
    }
   ],
   "source": [
    "df1.columns==df2.columns, df2.columns==df3.columns #Checking all columns are same"
   ]
  },
  {
   "cell_type": "code",
   "execution_count": 21,
   "metadata": {
    "id": "hY9aFreaWQ56"
   },
   "outputs": [],
   "source": [
    "# Merging to a single dataset\n",
    "df = pd.concat([df1, df2, df3], axis=0)\n",
    "df.reset_index(inplace=True, drop=True)"
   ]
  },
  {
   "cell_type": "code",
   "execution_count": 22,
   "metadata": {
    "id": "_lINXqMEYKxs"
   },
   "outputs": [],
   "source": [
    "# Dropping columns not required\n",
    "df.drop(['Unnamed: 0', 'date', 'year', 'month', 'url'], axis=1, inplace=True)"
   ]
  },
  {
   "cell_type": "markdown",
   "metadata": {
    "id": "IK6CWUDfJaKJ"
   },
   "source": [
    "## Data Cleaning"
   ]
  },
  {
   "cell_type": "code",
   "execution_count": 23,
   "metadata": {
    "colab": {
     "base_uri": "https://localhost:8080/"
    },
    "id": "B8D-zLLaX8p8",
    "outputId": "7ccd4cbf-6d1d-4abb-e72b-a775516b8c51"
   },
   "outputs": [
    {
     "data": {
      "text/plain": [
       "id                 0\n",
       "title              2\n",
       "publication        0\n",
       "author         15876\n",
       "content            0\n",
       "dtype: int64"
      ]
     },
     "execution_count": 23,
     "metadata": {
      "tags": []
     },
     "output_type": "execute_result"
    }
   ],
   "source": [
    "# Checking for null values\n",
    "df.isnull().sum()"
   ]
  },
  {
   "cell_type": "code",
   "execution_count": 24,
   "metadata": {
    "id": "8pYyI0S0YhoS"
   },
   "outputs": [],
   "source": [
    "# Dropping null values\n",
    "df.dropna(inplace=True)"
   ]
  },
  {
   "cell_type": "code",
   "execution_count": 25,
   "metadata": {
    "colab": {
     "base_uri": "https://localhost:8080/"
    },
    "id": "yBYV8Q9MYpCc",
    "outputId": "175e514f-fdfc-48e7-d3a9-1d045669cf4b"
   },
   "outputs": [
    {
     "data": {
      "text/plain": [
       "id             0\n",
       "title          0\n",
       "publication    0\n",
       "author         0\n",
       "content        0\n",
       "dtype: int64"
      ]
     },
     "execution_count": 25,
     "metadata": {
      "tags": []
     },
     "output_type": "execute_result"
    }
   ],
   "source": [
    "df.isnull().sum()"
   ]
  },
  {
   "cell_type": "code",
   "execution_count": 26,
   "metadata": {
    "colab": {
     "base_uri": "https://localhost:8080/",
     "height": 204
    },
    "id": "yRVvi5WuWZY-",
    "outputId": "14aab982-6cfd-44a6-fb48-ea5507c803e5"
   },
   "outputs": [
    {
     "data": {
      "text/html": [
       "<div>\n",
       "<style scoped>\n",
       "    .dataframe tbody tr th:only-of-type {\n",
       "        vertical-align: middle;\n",
       "    }\n",
       "\n",
       "    .dataframe tbody tr th {\n",
       "        vertical-align: top;\n",
       "    }\n",
       "\n",
       "    .dataframe thead th {\n",
       "        text-align: right;\n",
       "    }\n",
       "</style>\n",
       "<table border=\"1\" class=\"dataframe\">\n",
       "  <thead>\n",
       "    <tr style=\"text-align: right;\">\n",
       "      <th></th>\n",
       "      <th>id</th>\n",
       "      <th>title</th>\n",
       "      <th>publication</th>\n",
       "      <th>author</th>\n",
       "      <th>content</th>\n",
       "    </tr>\n",
       "  </thead>\n",
       "  <tbody>\n",
       "    <tr>\n",
       "      <th>0</th>\n",
       "      <td>73471</td>\n",
       "      <td>Patriots Day Is Best When It Digs Past the Her...</td>\n",
       "      <td>Atlantic</td>\n",
       "      <td>David Sims</td>\n",
       "      <td>Patriots Day, Peter Berg’s new thriller that r...</td>\n",
       "    </tr>\n",
       "    <tr>\n",
       "      <th>1</th>\n",
       "      <td>73472</td>\n",
       "      <td>A Break in the Search for the Origin of Comple...</td>\n",
       "      <td>Atlantic</td>\n",
       "      <td>Ed Yong</td>\n",
       "      <td>In Norse mythology, humans and our world were ...</td>\n",
       "    </tr>\n",
       "    <tr>\n",
       "      <th>2</th>\n",
       "      <td>73474</td>\n",
       "      <td>Obama’s Ingenious Mention of Atticus Finch</td>\n",
       "      <td>Atlantic</td>\n",
       "      <td>Spencer Kornhaber</td>\n",
       "      <td>“If our democracy is to work in this increasin...</td>\n",
       "    </tr>\n",
       "    <tr>\n",
       "      <th>3</th>\n",
       "      <td>73475</td>\n",
       "      <td>Donald Trump Meets, and Assails, the Press</td>\n",
       "      <td>Atlantic</td>\n",
       "      <td>David A. Graham</td>\n",
       "      <td>Updated on January 11 at 5:05 p. m. In his fir...</td>\n",
       "    </tr>\n",
       "    <tr>\n",
       "      <th>4</th>\n",
       "      <td>73476</td>\n",
       "      <td>Trump: ’I Think’ Hacking Was Russian</td>\n",
       "      <td>Atlantic</td>\n",
       "      <td>Kaveh Waddell</td>\n",
       "      <td>Updated at 12:25 p. m. After months of equivoc...</td>\n",
       "    </tr>\n",
       "  </tbody>\n",
       "</table>\n",
       "</div>"
      ],
      "text/plain": [
       "      id  ...                                            content\n",
       "0  73471  ...  Patriots Day, Peter Berg’s new thriller that r...\n",
       "1  73472  ...  In Norse mythology, humans and our world were ...\n",
       "2  73474  ...  “If our democracy is to work in this increasin...\n",
       "3  73475  ...  Updated on January 11 at 5:05 p. m. In his fir...\n",
       "4  73476  ...  Updated at 12:25 p. m. After months of equivoc...\n",
       "\n",
       "[5 rows x 5 columns]"
      ]
     },
     "execution_count": 26,
     "metadata": {
      "tags": []
     },
     "output_type": "execute_result"
    }
   ],
   "source": [
    "df.head()"
   ]
  },
  {
   "cell_type": "code",
   "execution_count": 27,
   "metadata": {
    "colab": {
     "base_uri": "https://localhost:8080/",
     "height": 204
    },
    "id": "hW8I8vZ4Xrn0",
    "outputId": "6c514b9c-e0d5-47e3-ff6a-558459975cde"
   },
   "outputs": [
    {
     "data": {
      "text/html": [
       "<div>\n",
       "<style scoped>\n",
       "    .dataframe tbody tr th:only-of-type {\n",
       "        vertical-align: middle;\n",
       "    }\n",
       "\n",
       "    .dataframe tbody tr th {\n",
       "        vertical-align: top;\n",
       "    }\n",
       "\n",
       "    .dataframe thead th {\n",
       "        text-align: right;\n",
       "    }\n",
       "</style>\n",
       "<table border=\"1\" class=\"dataframe\">\n",
       "  <thead>\n",
       "    <tr style=\"text-align: right;\">\n",
       "      <th></th>\n",
       "      <th>id</th>\n",
       "      <th>title</th>\n",
       "      <th>publication</th>\n",
       "      <th>author</th>\n",
       "      <th>content</th>\n",
       "    </tr>\n",
       "  </thead>\n",
       "  <tbody>\n",
       "    <tr>\n",
       "      <th>142565</th>\n",
       "      <td>218078</td>\n",
       "      <td>An eavesdropping Uber driver saved his 16-year...</td>\n",
       "      <td>Washington Post</td>\n",
       "      <td>Avi Selk</td>\n",
       "      <td>Uber driver Keith Avila picked up a p...</td>\n",
       "    </tr>\n",
       "    <tr>\n",
       "      <th>142566</th>\n",
       "      <td>218079</td>\n",
       "      <td>Plane carrying six people returning from a Cav...</td>\n",
       "      <td>Washington Post</td>\n",
       "      <td>Sarah Larimer</td>\n",
       "      <td>Crews on Friday continued to search L...</td>\n",
       "    </tr>\n",
       "    <tr>\n",
       "      <th>142567</th>\n",
       "      <td>218080</td>\n",
       "      <td>After helping a fraction of homeowners expecte...</td>\n",
       "      <td>Washington Post</td>\n",
       "      <td>Renae Merle</td>\n",
       "      <td>When the Obama administration announced a...</td>\n",
       "    </tr>\n",
       "    <tr>\n",
       "      <th>142568</th>\n",
       "      <td>218081</td>\n",
       "      <td>Yes, this is real: Michigan just banned bannin...</td>\n",
       "      <td>Washington Post</td>\n",
       "      <td>Chelsea Harvey</td>\n",
       "      <td>This story has been updated. A new law in...</td>\n",
       "    </tr>\n",
       "    <tr>\n",
       "      <th>142569</th>\n",
       "      <td>218082</td>\n",
       "      <td>What happened in Washington state after voters...</td>\n",
       "      <td>Washington Post</td>\n",
       "      <td>Christopher Ingraham</td>\n",
       "      <td>The nation’s first recreational marijuana...</td>\n",
       "    </tr>\n",
       "  </tbody>\n",
       "</table>\n",
       "</div>"
      ],
      "text/plain": [
       "            id  ...                                            content\n",
       "142565  218078  ...           Uber driver Keith Avila picked up a p...\n",
       "142566  218079  ...           Crews on Friday continued to search L...\n",
       "142567  218080  ...       When the Obama administration announced a...\n",
       "142568  218081  ...       This story has been updated. A new law in...\n",
       "142569  218082  ...       The nation’s first recreational marijuana...\n",
       "\n",
       "[5 rows x 5 columns]"
      ]
     },
     "execution_count": 27,
     "metadata": {
      "tags": []
     },
     "output_type": "execute_result"
    }
   ],
   "source": [
    "df.tail()"
   ]
  },
  {
   "cell_type": "code",
   "execution_count": 28,
   "metadata": {
    "colab": {
     "base_uri": "https://localhost:8080/"
    },
    "id": "Gfx0ugFxWaET",
    "outputId": "81f57296-d68b-4412-96fb-ee1cc3c36640"
   },
   "outputs": [
    {
     "data": {
      "text/plain": [
       "Breitbart              23781\n",
       "New York Post          17485\n",
       "NPR                    11654\n",
       "Washington Post        11077\n",
       "Reuters                10709\n",
       "New York Times          7767\n",
       "Guardian                7250\n",
       "CNN                     7025\n",
       "National Review         6203\n",
       "Atlantic                6199\n",
       "Business Insider        4950\n",
       "Vox                     4947\n",
       "Buzzfeed News           4853\n",
       "Talking Points Memo     1676\n",
       "Fox News                1117\n",
       "Name: publication, dtype: int64"
      ]
     },
     "execution_count": 28,
     "metadata": {
      "tags": []
     },
     "output_type": "execute_result"
    }
   ],
   "source": [
    "# Getting count of articles for each publication\n",
    "df['publication'].value_counts()"
   ]
  },
  {
   "cell_type": "code",
   "execution_count": 29,
   "metadata": {
    "id": "JYVIUCvlWhDF"
   },
   "outputs": [],
   "source": [
    "# Identifying length of title\n",
    "df['len_title'] = [len(x) for x in df['title']]"
   ]
  },
  {
   "cell_type": "code",
   "execution_count": 30,
   "metadata": {
    "id": "zCcRlJZ3Z_6R"
   },
   "outputs": [],
   "source": [
    "# Identifying length of content\n",
    "df['len_content'] = [len(x) for x in df['content']]"
   ]
  },
  {
   "cell_type": "code",
   "execution_count": 31,
   "metadata": {
    "colab": {
     "base_uri": "https://localhost:8080/",
     "height": 204
    },
    "id": "cRnlCUoOWrha",
    "outputId": "468532c3-3f73-446f-d6d4-d72d6c9ceb5d"
   },
   "outputs": [
    {
     "data": {
      "text/html": [
       "<div>\n",
       "<style scoped>\n",
       "    .dataframe tbody tr th:only-of-type {\n",
       "        vertical-align: middle;\n",
       "    }\n",
       "\n",
       "    .dataframe tbody tr th {\n",
       "        vertical-align: top;\n",
       "    }\n",
       "\n",
       "    .dataframe thead th {\n",
       "        text-align: right;\n",
       "    }\n",
       "</style>\n",
       "<table border=\"1\" class=\"dataframe\">\n",
       "  <thead>\n",
       "    <tr style=\"text-align: right;\">\n",
       "      <th></th>\n",
       "      <th>id</th>\n",
       "      <th>title</th>\n",
       "      <th>publication</th>\n",
       "      <th>author</th>\n",
       "      <th>content</th>\n",
       "      <th>len_title</th>\n",
       "      <th>len_content</th>\n",
       "    </tr>\n",
       "  </thead>\n",
       "  <tbody>\n",
       "    <tr>\n",
       "      <th>0</th>\n",
       "      <td>73471</td>\n",
       "      <td>Patriots Day Is Best When It Digs Past the Her...</td>\n",
       "      <td>Atlantic</td>\n",
       "      <td>David Sims</td>\n",
       "      <td>Patriots Day, Peter Berg’s new thriller that r...</td>\n",
       "      <td>50</td>\n",
       "      <td>5357</td>\n",
       "    </tr>\n",
       "    <tr>\n",
       "      <th>1</th>\n",
       "      <td>73472</td>\n",
       "      <td>A Break in the Search for the Origin of Comple...</td>\n",
       "      <td>Atlantic</td>\n",
       "      <td>Ed Yong</td>\n",
       "      <td>In Norse mythology, humans and our world were ...</td>\n",
       "      <td>52</td>\n",
       "      <td>8015</td>\n",
       "    </tr>\n",
       "    <tr>\n",
       "      <th>2</th>\n",
       "      <td>73474</td>\n",
       "      <td>Obama’s Ingenious Mention of Atticus Finch</td>\n",
       "      <td>Atlantic</td>\n",
       "      <td>Spencer Kornhaber</td>\n",
       "      <td>“If our democracy is to work in this increasin...</td>\n",
       "      <td>42</td>\n",
       "      <td>5096</td>\n",
       "    </tr>\n",
       "    <tr>\n",
       "      <th>3</th>\n",
       "      <td>73475</td>\n",
       "      <td>Donald Trump Meets, and Assails, the Press</td>\n",
       "      <td>Atlantic</td>\n",
       "      <td>David A. Graham</td>\n",
       "      <td>Updated on January 11 at 5:05 p. m. In his fir...</td>\n",
       "      <td>42</td>\n",
       "      <td>5773</td>\n",
       "    </tr>\n",
       "    <tr>\n",
       "      <th>4</th>\n",
       "      <td>73476</td>\n",
       "      <td>Trump: ’I Think’ Hacking Was Russian</td>\n",
       "      <td>Atlantic</td>\n",
       "      <td>Kaveh Waddell</td>\n",
       "      <td>Updated at 12:25 p. m. After months of equivoc...</td>\n",
       "      <td>36</td>\n",
       "      <td>2445</td>\n",
       "    </tr>\n",
       "  </tbody>\n",
       "</table>\n",
       "</div>"
      ],
      "text/plain": [
       "      id  ... len_content\n",
       "0  73471  ...        5357\n",
       "1  73472  ...        8015\n",
       "2  73474  ...        5096\n",
       "3  73475  ...        5773\n",
       "4  73476  ...        2445\n",
       "\n",
       "[5 rows x 7 columns]"
      ]
     },
     "execution_count": 31,
     "metadata": {
      "tags": []
     },
     "output_type": "execute_result"
    }
   ],
   "source": [
    "df.head()"
   ]
  },
  {
   "cell_type": "markdown",
   "metadata": {
    "id": "z0gueV0mJdiH"
   },
   "source": [
    "### Filtering for Top-5 Publications"
   ]
  },
  {
   "cell_type": "code",
   "execution_count": 32,
   "metadata": {
    "colab": {
     "base_uri": "https://localhost:8080/"
    },
    "id": "1tiVEqTrk1jK",
    "outputId": "92de8c5c-157a-41a1-bfbd-ae633cbf97ce"
   },
   "outputs": [
    {
     "data": {
      "text/plain": [
       "74706"
      ]
     },
     "execution_count": 32,
     "metadata": {
      "tags": []
     },
     "output_type": "execute_result"
    }
   ],
   "source": [
    "top_publications = df.publication.value_counts()[:5] \n",
    "sum(top_publications.values)"
   ]
  },
  {
   "cell_type": "code",
   "execution_count": 33,
   "metadata": {
    "colab": {
     "base_uri": "https://localhost:8080/"
    },
    "id": "RdNXug8ok8p0",
    "outputId": "2023e326-ad1b-4881-abb8-5da055e4ab02"
   },
   "outputs": [
    {
     "data": {
      "text/plain": [
       "Breitbart          23781\n",
       "New York Post      17485\n",
       "NPR                11654\n",
       "Washington Post    11077\n",
       "Reuters            10709\n",
       "Name: publication, dtype: int64"
      ]
     },
     "execution_count": 33,
     "metadata": {
      "tags": []
     },
     "output_type": "execute_result"
    }
   ],
   "source": [
    "top_publications # Printing the count and names of publications"
   ]
  },
  {
   "cell_type": "code",
   "execution_count": 34,
   "metadata": {
    "id": "GgbF-J50lA1A"
   },
   "outputs": [],
   "source": [
    "# Drop rows that are not in the top_writer\n",
    "df_top = pd.DataFrame(columns=df.columns)\n",
    "for i in top_publications.keys():\n",
    "    df_top = df_top.append(df[df.publication == i], ignore_index=True)\n",
    "df = df_top\n",
    "del df_top"
   ]
  },
  {
   "cell_type": "code",
   "execution_count": 35,
   "metadata": {
    "colab": {
     "base_uri": "https://localhost:8080/",
     "height": 419
    },
    "id": "ukRdqUkFlhdP",
    "outputId": "5d90bd70-f8a5-44cc-f0e8-6f8053dd1b81"
   },
   "outputs": [
    {
     "data": {
      "text/html": [
       "<div>\n",
       "<style scoped>\n",
       "    .dataframe tbody tr th:only-of-type {\n",
       "        vertical-align: middle;\n",
       "    }\n",
       "\n",
       "    .dataframe tbody tr th {\n",
       "        vertical-align: top;\n",
       "    }\n",
       "\n",
       "    .dataframe thead th {\n",
       "        text-align: right;\n",
       "    }\n",
       "</style>\n",
       "<table border=\"1\" class=\"dataframe\">\n",
       "  <thead>\n",
       "    <tr style=\"text-align: right;\">\n",
       "      <th></th>\n",
       "      <th>id</th>\n",
       "      <th>title</th>\n",
       "      <th>publication</th>\n",
       "      <th>author</th>\n",
       "      <th>content</th>\n",
       "      <th>len_title</th>\n",
       "      <th>len_content</th>\n",
       "    </tr>\n",
       "  </thead>\n",
       "  <tbody>\n",
       "    <tr>\n",
       "      <th>0</th>\n",
       "      <td>26539</td>\n",
       "      <td>CNN’s Zeleny: ’Hard to Imagine’ Obama Would Ha...</td>\n",
       "      <td>Breitbart</td>\n",
       "      <td>Ian Hanchett</td>\n",
       "      <td>On Tuesday’s broadcast of CNN’s “Situation Roo...</td>\n",
       "      <td>109</td>\n",
       "      <td>1067</td>\n",
       "    </tr>\n",
       "    <tr>\n",
       "      <th>1</th>\n",
       "      <td>26540</td>\n",
       "      <td>American Students on Spring Break Chant ’Build...</td>\n",
       "      <td>Breitbart</td>\n",
       "      <td>Katherine Rodriguez</td>\n",
       "      <td>A group of American spring break revelers repo...</td>\n",
       "      <td>73</td>\n",
       "      <td>1514</td>\n",
       "    </tr>\n",
       "    <tr>\n",
       "      <th>2</th>\n",
       "      <td>26541</td>\n",
       "      <td>Surge in ’Honour Crimes’ and Forced Marriages ...</td>\n",
       "      <td>Breitbart</td>\n",
       "      <td>Liam Deacon</td>\n",
       "      <td>“honour crimes” have risen by 40 per cent in...</td>\n",
       "      <td>55</td>\n",
       "      <td>2195</td>\n",
       "    </tr>\n",
       "    <tr>\n",
       "      <th>3</th>\n",
       "      <td>26542</td>\n",
       "      <td>MILO Announces New Media Venture - Breitbart</td>\n",
       "      <td>Breitbart</td>\n",
       "      <td>Lucas Nolan</td>\n",
       "      <td>Former Breitbart Senior Editor MILO has announ...</td>\n",
       "      <td>44</td>\n",
       "      <td>2113</td>\n",
       "    </tr>\n",
       "    <tr>\n",
       "      <th>4</th>\n",
       "      <td>26543</td>\n",
       "      <td>Jared Kushner at Center of Media Spotlight on ...</td>\n",
       "      <td>Breitbart</td>\n",
       "      <td>Penny Starr</td>\n",
       "      <td>The focus of the continuous media reports of a...</td>\n",
       "      <td>88</td>\n",
       "      <td>3866</td>\n",
       "    </tr>\n",
       "    <tr>\n",
       "      <th>...</th>\n",
       "      <td>...</td>\n",
       "      <td>...</td>\n",
       "      <td>...</td>\n",
       "      <td>...</td>\n",
       "      <td>...</td>\n",
       "      <td>...</td>\n",
       "      <td>...</td>\n",
       "    </tr>\n",
       "    <tr>\n",
       "      <th>74701</th>\n",
       "      <td>195402</td>\n",
       "      <td>Speculators raise net long dollar bets in fina...</td>\n",
       "      <td>Reuters</td>\n",
       "      <td>Dion Rabouin</td>\n",
       "      <td>Net long bets on the dollar fell last week for...</td>\n",
       "      <td>60</td>\n",
       "      <td>4670</td>\n",
       "    </tr>\n",
       "    <tr>\n",
       "      <th>74702</th>\n",
       "      <td>195403</td>\n",
       "      <td>Wall St. thinks stocks will rise in 2017 - Wha...</td>\n",
       "      <td>Reuters</td>\n",
       "      <td>Caroline Valetkevitch and Noel Randewich</td>\n",
       "      <td>Wall Street’s rally could be derailed by rene...</td>\n",
       "      <td>63</td>\n",
       "      <td>6011</td>\n",
       "    </tr>\n",
       "    <tr>\n",
       "      <th>74703</th>\n",
       "      <td>195404</td>\n",
       "      <td>Disney buying Netflix could be practical magic</td>\n",
       "      <td>Reuters</td>\n",
       "      <td>Jennifer Saba</td>\n",
       "      <td>(Reuters Breakingviews)   Walt Disney may be ...</td>\n",
       "      <td>46</td>\n",
       "      <td>3243</td>\n",
       "    </tr>\n",
       "    <tr>\n",
       "      <th>74704</th>\n",
       "      <td>195410</td>\n",
       "      <td>Actors seek posthumous protections after big-s...</td>\n",
       "      <td>Reuters</td>\n",
       "      <td>Lisa Richwine and Jill Serjeant</td>\n",
       "      <td>(Story refiled to correct date in paragraph 1...</td>\n",
       "      <td>65</td>\n",
       "      <td>6482</td>\n",
       "    </tr>\n",
       "    <tr>\n",
       "      <th>74705</th>\n",
       "      <td>195417</td>\n",
       "      <td>European cities ramp up security for New Year ...</td>\n",
       "      <td>Reuters</td>\n",
       "      <td>Oliver Denzer and Geert De Clercq</td>\n",
       "      <td>European capitals tightened security on Frida...</td>\n",
       "      <td>65</td>\n",
       "      <td>4830</td>\n",
       "    </tr>\n",
       "  </tbody>\n",
       "</table>\n",
       "<p>74706 rows × 7 columns</p>\n",
       "</div>"
      ],
      "text/plain": [
       "           id  ... len_content\n",
       "0       26539  ...        1067\n",
       "1       26540  ...        1514\n",
       "2       26541  ...        2195\n",
       "3       26542  ...        2113\n",
       "4       26543  ...        3866\n",
       "...       ...  ...         ...\n",
       "74701  195402  ...        4670\n",
       "74702  195403  ...        6011\n",
       "74703  195404  ...        3243\n",
       "74704  195410  ...        6482\n",
       "74705  195417  ...        4830\n",
       "\n",
       "[74706 rows x 7 columns]"
      ]
     },
     "execution_count": 35,
     "metadata": {
      "tags": []
     },
     "output_type": "execute_result"
    }
   ],
   "source": [
    "df"
   ]
  },
  {
   "cell_type": "markdown",
   "metadata": {
    "id": "CdKyUisNJsaQ"
   },
   "source": [
    "### Filtering for datapoints that have considerable text to process with"
   ]
  },
  {
   "cell_type": "code",
   "execution_count": 36,
   "metadata": {
    "id": "Ru41tiiWip8M"
   },
   "outputs": [],
   "source": [
    "df = df[df['len_content']>150]"
   ]
  },
  {
   "cell_type": "code",
   "execution_count": 37,
   "metadata": {
    "id": "hIZbn6ncjBKp"
   },
   "outputs": [],
   "source": [
    "df = df[df['len_title']>5]"
   ]
  },
  {
   "cell_type": "code",
   "execution_count": 38,
   "metadata": {
    "colab": {
     "base_uri": "https://localhost:8080/",
     "height": 173
    },
    "id": "xjj84ryvjFF-",
    "outputId": "833d87fb-5ed3-43b3-9d96-43575f24b307"
   },
   "outputs": [
    {
     "data": {
      "text/html": [
       "<div>\n",
       "<style scoped>\n",
       "    .dataframe tbody tr th:only-of-type {\n",
       "        vertical-align: middle;\n",
       "    }\n",
       "\n",
       "    .dataframe tbody tr th {\n",
       "        vertical-align: top;\n",
       "    }\n",
       "\n",
       "    .dataframe thead th {\n",
       "        text-align: right;\n",
       "    }\n",
       "</style>\n",
       "<table border=\"1\" class=\"dataframe\">\n",
       "  <thead>\n",
       "    <tr style=\"text-align: right;\">\n",
       "      <th></th>\n",
       "      <th>id</th>\n",
       "      <th>title</th>\n",
       "      <th>publication</th>\n",
       "      <th>author</th>\n",
       "      <th>content</th>\n",
       "      <th>len_title</th>\n",
       "      <th>len_content</th>\n",
       "    </tr>\n",
       "  </thead>\n",
       "  <tbody>\n",
       "    <tr>\n",
       "      <th>count</th>\n",
       "      <td>74548</td>\n",
       "      <td>74548</td>\n",
       "      <td>74548</td>\n",
       "      <td>74548</td>\n",
       "      <td>74548</td>\n",
       "      <td>74548</td>\n",
       "      <td>74548</td>\n",
       "    </tr>\n",
       "    <tr>\n",
       "      <th>unique</th>\n",
       "      <td>74548</td>\n",
       "      <td>74540</td>\n",
       "      <td>5</td>\n",
       "      <td>8982</td>\n",
       "      <td>74513</td>\n",
       "      <td>160</td>\n",
       "      <td>10913</td>\n",
       "    </tr>\n",
       "    <tr>\n",
       "      <th>top</th>\n",
       "      <td>131071</td>\n",
       "      <td>The best upcoming sample sales</td>\n",
       "      <td>Breitbart</td>\n",
       "      <td>Breitbart News</td>\n",
       "      <td>Caption   Businessman Donald Trum...</td>\n",
       "      <td>63</td>\n",
       "      <td>2878</td>\n",
       "    </tr>\n",
       "    <tr>\n",
       "      <th>freq</th>\n",
       "      <td>1</td>\n",
       "      <td>3</td>\n",
       "      <td>23664</td>\n",
       "      <td>1483</td>\n",
       "      <td>3</td>\n",
       "      <td>2341</td>\n",
       "      <td>36</td>\n",
       "    </tr>\n",
       "  </tbody>\n",
       "</table>\n",
       "</div>"
      ],
      "text/plain": [
       "            id                           title  ... len_title len_content\n",
       "count    74548                           74548  ...     74548       74548\n",
       "unique   74548                           74540  ...       160       10913\n",
       "top     131071  The best upcoming sample sales  ...        63        2878\n",
       "freq         1                               3  ...      2341          36\n",
       "\n",
       "[4 rows x 7 columns]"
      ]
     },
     "execution_count": 38,
     "metadata": {
      "tags": []
     },
     "output_type": "execute_result"
    }
   ],
   "source": [
    "df.describe() # Not a considerable decrease in amount"
   ]
  },
  {
   "cell_type": "code",
   "execution_count": 39,
   "metadata": {
    "colab": {
     "base_uri": "https://localhost:8080/"
    },
    "id": "ErRq0j5rjQ-G",
    "outputId": "ce745a39-ad51-4d9c-ed97-7e148cc25d5c"
   },
   "outputs": [
    {
     "data": {
      "text/plain": [
       "Breitbart          23664\n",
       "New York Post      17481\n",
       "NPR                11646\n",
       "Washington Post    11048\n",
       "Reuters            10709\n",
       "Name: publication, dtype: int64"
      ]
     },
     "execution_count": 39,
     "metadata": {
      "tags": []
     },
     "output_type": "execute_result"
    }
   ],
   "source": [
    "df['publication'].value_counts() # Final count of articles for publications"
   ]
  },
  {
   "cell_type": "markdown",
   "metadata": {
    "id": "izxkywiPKBJ4"
   },
   "source": [
    "## Data Processing"
   ]
  },
  {
   "cell_type": "code",
   "execution_count": 40,
   "metadata": {
    "colab": {
     "base_uri": "https://localhost:8080/"
    },
    "id": "lIDz2E7U13AZ",
    "outputId": "1b177b97-4355-46a8-cf07-22a4c15099cb"
   },
   "outputs": [
    {
     "name": "stdout",
     "output_type": "stream",
     "text": [
      "[nltk_data] Downloading package wordnet to /root/nltk_data...\n",
      "[nltk_data]   Unzipping corpora/wordnet.zip.\n"
     ]
    },
    {
     "data": {
      "text/plain": [
       "True"
      ]
     },
     "execution_count": 40,
     "metadata": {
      "tags": []
     },
     "output_type": "execute_result"
    }
   ],
   "source": [
    "import nltk\n",
    "nltk.download('wordnet')"
   ]
  },
  {
   "cell_type": "code",
   "execution_count": 41,
   "metadata": {
    "id": "b-D7lGFnmEFg"
   },
   "outputs": [],
   "source": [
    "def process_row(row):\n",
    "    \n",
    "    #Mail address\n",
    "    row = re.sub('(\\S+@\\S+)(com|\\s+com)', ' ', row)\n",
    "    #Username\n",
    "    row = re.sub('(\\S+@\\S+)', ' ', row)\n",
    "    #punctuation\n",
    "    # punctuation = punctuation + '\\n' + '—“,”‘-’' + '0123456789'\n",
    "    punctuation = '—“,”‘-’' + '0123456789'\n",
    "    row = ''.join(word for word in row if word not in punctuation)\n",
    "    #Lower case \n",
    "    row = row.lower()\n",
    "    #Stopwords\n",
    "    stop = STOPWORDS\n",
    "    row = ' '.join(word for word in row.split() if word not in stop)    \n",
    "    #Lemma\n",
    "    row = \" \".join([Word(word).lemmatize() for word in row.split()])\n",
    "    #Stemming\n",
    "    stemmer = SnowballStemmer(language='english')\n",
    "    row = \" \".join([stemmer.stem(word) for word in row.split()])\n",
    "    #Extra whitespace\n",
    "    row = re.sub('\\s{1,}', ' ', row)\n",
    "    \n",
    "    row = \" \".join([word for word in row.split() if len(word) > 2])\n",
    "\n",
    "    return row"
   ]
  },
  {
   "cell_type": "code",
   "execution_count": 42,
   "metadata": {
    "colab": {
     "base_uri": "https://localhost:8080/"
    },
    "id": "_rm2fXWy2W6r",
    "outputId": "cbb83efa-431a-4ccb-dba0-f1dd7ac2647e"
   },
   "outputs": [
    {
     "data": {
      "text/plain": [
       "(74548, 7)"
      ]
     },
     "execution_count": 42,
     "metadata": {
      "tags": []
     },
     "output_type": "execute_result"
    }
   ],
   "source": [
    "df.shape"
   ]
  },
  {
   "cell_type": "code",
   "execution_count": 43,
   "metadata": {
    "id": "HGXEecyx1bcY"
   },
   "outputs": [],
   "source": [
    "df['content_clean'] = df['content'].apply(process_row) # Processing on Content"
   ]
  },
  {
   "cell_type": "code",
   "execution_count": 45,
   "metadata": {
    "colab": {
     "base_uri": "https://localhost:8080/",
     "height": 419
    },
    "id": "n2VzIHn64bkj",
    "outputId": "4c15fe82-005e-4bf4-cbe7-c5eff4a34aaf"
   },
   "outputs": [
    {
     "data": {
      "text/html": [
       "<div>\n",
       "<style scoped>\n",
       "    .dataframe tbody tr th:only-of-type {\n",
       "        vertical-align: middle;\n",
       "    }\n",
       "\n",
       "    .dataframe tbody tr th {\n",
       "        vertical-align: top;\n",
       "    }\n",
       "\n",
       "    .dataframe thead th {\n",
       "        text-align: right;\n",
       "    }\n",
       "</style>\n",
       "<table border=\"1\" class=\"dataframe\">\n",
       "  <thead>\n",
       "    <tr style=\"text-align: right;\">\n",
       "      <th></th>\n",
       "      <th>id</th>\n",
       "      <th>title</th>\n",
       "      <th>publication</th>\n",
       "      <th>author</th>\n",
       "      <th>content</th>\n",
       "      <th>len_title</th>\n",
       "      <th>len_content</th>\n",
       "      <th>content_clean</th>\n",
       "    </tr>\n",
       "  </thead>\n",
       "  <tbody>\n",
       "    <tr>\n",
       "      <th>0</th>\n",
       "      <td>26539</td>\n",
       "      <td>CNN’s Zeleny: ’Hard to Imagine’ Obama Would Ha...</td>\n",
       "      <td>Breitbart</td>\n",
       "      <td>Ian Hanchett</td>\n",
       "      <td>On Tuesday’s broadcast of CNN’s “Situation Roo...</td>\n",
       "      <td>109</td>\n",
       "      <td>1067</td>\n",
       "      <td>tuesday broadcast cnns situat room cnn senior ...</td>\n",
       "    </tr>\n",
       "    <tr>\n",
       "      <th>1</th>\n",
       "      <td>26540</td>\n",
       "      <td>American Students on Spring Break Chant ’Build...</td>\n",
       "      <td>Breitbart</td>\n",
       "      <td>Katherine Rodriguez</td>\n",
       "      <td>A group of American spring break revelers repo...</td>\n",
       "      <td>73</td>\n",
       "      <td>1514</td>\n",
       "      <td>group american spring break revel report chant...</td>\n",
       "    </tr>\n",
       "    <tr>\n",
       "      <th>2</th>\n",
       "      <td>26541</td>\n",
       "      <td>Surge in ’Honour Crimes’ and Forced Marriages ...</td>\n",
       "      <td>Breitbart</td>\n",
       "      <td>Liam Deacon</td>\n",
       "      <td>“honour crimes” have risen by 40 per cent in...</td>\n",
       "      <td>55</td>\n",
       "      <td>2195</td>\n",
       "      <td>honour crime risen cent year london number for...</td>\n",
       "    </tr>\n",
       "    <tr>\n",
       "      <th>3</th>\n",
       "      <td>26542</td>\n",
       "      <td>MILO Announces New Media Venture - Breitbart</td>\n",
       "      <td>Breitbart</td>\n",
       "      <td>Lucas Nolan</td>\n",
       "      <td>Former Breitbart Senior Editor MILO has announ...</td>\n",
       "      <td>44</td>\n",
       "      <td>2113</td>\n",
       "      <td>breitbart senior editor milo announc found new...</td>\n",
       "    </tr>\n",
       "    <tr>\n",
       "      <th>4</th>\n",
       "      <td>26543</td>\n",
       "      <td>Jared Kushner at Center of Media Spotlight on ...</td>\n",
       "      <td>Breitbart</td>\n",
       "      <td>Penny Starr</td>\n",
       "      <td>The focus of the continuous media reports of a...</td>\n",
       "      <td>88</td>\n",
       "      <td>3866</td>\n",
       "      <td>focus continu medium report alleg collus russi...</td>\n",
       "    </tr>\n",
       "    <tr>\n",
       "      <th>...</th>\n",
       "      <td>...</td>\n",
       "      <td>...</td>\n",
       "      <td>...</td>\n",
       "      <td>...</td>\n",
       "      <td>...</td>\n",
       "      <td>...</td>\n",
       "      <td>...</td>\n",
       "      <td>...</td>\n",
       "    </tr>\n",
       "    <tr>\n",
       "      <th>74701</th>\n",
       "      <td>195402</td>\n",
       "      <td>Speculators raise net long dollar bets in fina...</td>\n",
       "      <td>Reuters</td>\n",
       "      <td>Dion Rabouin</td>\n",
       "      <td>Net long bets on the dollar fell last week for...</td>\n",
       "      <td>60</td>\n",
       "      <td>4670</td>\n",
       "      <td>net long bet dollar fell week time octob rebou...</td>\n",
       "    </tr>\n",
       "    <tr>\n",
       "      <th>74702</th>\n",
       "      <td>195403</td>\n",
       "      <td>Wall St. thinks stocks will rise in 2017 - Wha...</td>\n",
       "      <td>Reuters</td>\n",
       "      <td>Caroline Valetkevitch and Noel Randewich</td>\n",
       "      <td>Wall Street’s rally could be derailed by rene...</td>\n",
       "      <td>63</td>\n",
       "      <td>6011</td>\n",
       "      <td>wall street ralli derail renew worri donald tr...</td>\n",
       "    </tr>\n",
       "    <tr>\n",
       "      <th>74703</th>\n",
       "      <td>195404</td>\n",
       "      <td>Disney buying Netflix could be practical magic</td>\n",
       "      <td>Reuters</td>\n",
       "      <td>Jennifer Saba</td>\n",
       "      <td>(Reuters Breakingviews)   Walt Disney may be ...</td>\n",
       "      <td>46</td>\n",
       "      <td>3243</td>\n",
       "      <td>(reuter breakingviews) walt disney look bit ma...</td>\n",
       "    </tr>\n",
       "    <tr>\n",
       "      <th>74704</th>\n",
       "      <td>195410</td>\n",
       "      <td>Actors seek posthumous protections after big-s...</td>\n",
       "      <td>Reuters</td>\n",
       "      <td>Lisa Richwine and Jill Serjeant</td>\n",
       "      <td>(Story refiled to correct date in paragraph 1...</td>\n",
       "      <td>65</td>\n",
       "      <td>6482</td>\n",
       "      <td>(stori refil correct date paragraph lisa richw...</td>\n",
       "    </tr>\n",
       "    <tr>\n",
       "      <th>74705</th>\n",
       "      <td>195417</td>\n",
       "      <td>European cities ramp up security for New Year ...</td>\n",
       "      <td>Reuters</td>\n",
       "      <td>Oliver Denzer and Geert De Clercq</td>\n",
       "      <td>European capitals tightened security on Frida...</td>\n",
       "      <td>65</td>\n",
       "      <td>4830</td>\n",
       "      <td>european capit tighten secur friday ahead new ...</td>\n",
       "    </tr>\n",
       "  </tbody>\n",
       "</table>\n",
       "<p>74548 rows × 8 columns</p>\n",
       "</div>"
      ],
      "text/plain": [
       "           id  ...                                      content_clean\n",
       "0       26539  ...  tuesday broadcast cnns situat room cnn senior ...\n",
       "1       26540  ...  group american spring break revel report chant...\n",
       "2       26541  ...  honour crime risen cent year london number for...\n",
       "3       26542  ...  breitbart senior editor milo announc found new...\n",
       "4       26543  ...  focus continu medium report alleg collus russi...\n",
       "...       ...  ...                                                ...\n",
       "74701  195402  ...  net long bet dollar fell week time octob rebou...\n",
       "74702  195403  ...  wall street ralli derail renew worri donald tr...\n",
       "74703  195404  ...  (reuter breakingviews) walt disney look bit ma...\n",
       "74704  195410  ...  (stori refil correct date paragraph lisa richw...\n",
       "74705  195417  ...  european capit tighten secur friday ahead new ...\n",
       "\n",
       "[74548 rows x 8 columns]"
      ]
     },
     "execution_count": 45,
     "metadata": {
      "tags": []
     },
     "output_type": "execute_result"
    }
   ],
   "source": [
    "df"
   ]
  },
  {
   "cell_type": "markdown",
   "metadata": {
    "id": "mg4662W7PFPO"
   },
   "source": [
    "    0\t    Breitbart\n",
    "    1\t    New York Post\n",
    "    2\t    NPR (National Public Radio)\n",
    "    3\t    Washington Post\n",
    "    4\t    Reuters"
   ]
  },
  {
   "cell_type": "markdown",
   "metadata": {
    "id": "RA-BHpLxT6b_"
   },
   "source": [
    "**Dumping the dataset onto gdrive. Change directory if you want to**"
   ]
  },
  {
   "cell_type": "code",
   "execution_count": 51,
   "metadata": {
    "id": "vYNx73q87jDu"
   },
   "outputs": [],
   "source": [
    "df.to_pickle(\"./drive/MyDrive/UofT/Deep NN Projects/Keras-ArticlePublishersData-1D-CNN-MC/dataset.pkl\")"
   ]
  },
  {
   "cell_type": "markdown",
   "metadata": {
    "id": "2aL5LESnUDXO"
   },
   "source": [
    "## Preparing Data for Modeling\n"
   ]
  },
  {
   "cell_type": "code",
   "execution_count": 52,
   "metadata": {
    "id": "XqOLo4txQB3p"
   },
   "outputs": [],
   "source": [
    "from sklearn import preprocessing\n",
    "from tensorflow.keras.utils import to_categorical"
   ]
  },
  {
   "cell_type": "markdown",
   "metadata": {
    "id": "GVHMRk5mULzX"
   },
   "source": [
    "**Encoding the label - publications**"
   ]
  },
  {
   "cell_type": "code",
   "execution_count": 53,
   "metadata": {
    "id": "j0AZfjI9QVo2"
   },
   "outputs": [],
   "source": [
    "le = preprocessing.LabelEncoder()"
   ]
  },
  {
   "cell_type": "code",
   "execution_count": 54,
   "metadata": {
    "id": "dCQeIruBQlpB"
   },
   "outputs": [],
   "source": [
    "df['publication_label'] = le.fit_transform(df.publication.values)"
   ]
  },
  {
   "cell_type": "markdown",
   "metadata": {
    "id": "tPnajfE1UUOX"
   },
   "source": [
    "**Setting Targets & Features**"
   ]
  },
  {
   "cell_type": "code",
   "execution_count": 56,
   "metadata": {
    "id": "64yxniz36fWr"
   },
   "outputs": [],
   "source": [
    "X = df['content_clean'].values"
   ]
  },
  {
   "cell_type": "code",
   "execution_count": 57,
   "metadata": {
    "id": "K8KbBR7sPjS_"
   },
   "outputs": [],
   "source": [
    "y = df['publication_label'].values"
   ]
  },
  {
   "cell_type": "code",
   "execution_count": 58,
   "metadata": {
    "colab": {
     "base_uri": "https://localhost:8080/"
    },
    "id": "RNJU9l-CRmzC",
    "outputId": "f9352d01-b3c9-4482-963e-497b8eb53271"
   },
   "outputs": [
    {
     "data": {
      "text/plain": [
       "array([0, 0, 0, ..., 3, 3, 3])"
      ]
     },
     "execution_count": 58,
     "metadata": {
      "tags": []
     },
     "output_type": "execute_result"
    }
   ],
   "source": [
    "y"
   ]
  },
  {
   "cell_type": "markdown",
   "metadata": {
    "id": "6es6QnZ8UZ_N"
   },
   "source": [
    "**Converting label as one-hot encoded matrix**"
   ]
  },
  {
   "cell_type": "code",
   "execution_count": 59,
   "metadata": {
    "colab": {
     "base_uri": "https://localhost:8080/"
    },
    "id": "VovYUUbwQJeU",
    "outputId": "c2788f1c-301f-4fea-a751-d7c3846e94b3"
   },
   "outputs": [
    {
     "data": {
      "text/plain": [
       "array([[1., 0., 0., 0., 0.],\n",
       "       [1., 0., 0., 0., 0.],\n",
       "       [1., 0., 0., 0., 0.],\n",
       "       ...,\n",
       "       [0., 0., 0., 1., 0.],\n",
       "       [0., 0., 0., 1., 0.],\n",
       "       [0., 0., 0., 1., 0.]], dtype=float32)"
      ]
     },
     "execution_count": 59,
     "metadata": {
      "tags": []
     },
     "output_type": "execute_result"
    }
   ],
   "source": [
    "to_categorical(y)"
   ]
  },
  {
   "cell_type": "markdown",
   "metadata": {
    "id": "5_NXoDGEUf_b"
   },
   "source": [
    "**Splitting for training and testing sets**"
   ]
  },
  {
   "cell_type": "code",
   "execution_count": 60,
   "metadata": {
    "id": "TboIJOVFPpLy"
   },
   "outputs": [],
   "source": [
    "from sklearn.model_selection import train_test_split"
   ]
  },
  {
   "cell_type": "code",
   "execution_count": 61,
   "metadata": {
    "id": "3isjxAriPwHa"
   },
   "outputs": [],
   "source": [
    "X_train, X_test, y_train, y_test = train_test_split( X, y, test_size=0.3, random_state=42, stratify=y)"
   ]
  },
  {
   "cell_type": "code",
   "execution_count": 62,
   "metadata": {
    "id": "lI7hN0xuRqio"
   },
   "outputs": [],
   "source": [
    "y_train_cat = to_categorical(y_train)\n",
    "y_test_cat = to_categorical(y_test)"
   ]
  },
  {
   "cell_type": "markdown",
   "metadata": {
    "id": "VSO6zjTsUkvP"
   },
   "source": [
    "**Storing the prepared data for modeling**"
   ]
  },
  {
   "cell_type": "code",
   "execution_count": 63,
   "metadata": {
    "id": "MPYbz9L3SQgZ"
   },
   "outputs": [],
   "source": [
    "pd.DataFrame(X_train).to_pickle(\"./drive/MyDrive/UofT/Deep NN Projects/Keras-ArticlePublishersData-1D-CNN-MC/X_train.pkl\")\n",
    "pd.DataFrame(X_test).to_pickle(\"./drive/MyDrive/UofT/Deep NN Projects/Keras-ArticlePublishersData-1D-CNN-MC/X_test.pkl\")"
   ]
  },
  {
   "cell_type": "code",
   "execution_count": 64,
   "metadata": {
    "id": "l64bqae-SMBA"
   },
   "outputs": [],
   "source": [
    "pd.DataFrame(y_train_cat).to_pickle(\"./drive/MyDrive/UofT/Deep NN Projects/Keras-ArticlePublishersData-1D-CNN-MC/y_train_cat.pkl\")\n",
    "pd.DataFrame(y_test_cat).to_pickle(\"./drive/MyDrive/UofT/Deep NN Projects/Keras-ArticlePublishersData-1D-CNN-MC/y_test_cat.pkl\")"
   ]
  },
  {
   "cell_type": "markdown",
   "metadata": {
    "id": "3ImZ2QoHUrPh"
   },
   "source": [
    "### This is the end of Part-1. In the second part, we will pick up here with some feature encoding and finally model building, fitting & evaluation"
   ]
  },
  {
   "cell_type": "code",
   "execution_count": null,
   "metadata": {
    "id": "N9rurwXNgRz2"
   },
   "outputs": [],
   "source": []
  }
 ],
 "metadata": {
  "colab": {
   "name": "Keras-1DConv-NLP-MC_3Channels-Part1.ipynb",
   "provenance": []
  },
  "kernelspec": {
   "display_name": "Python 3",
   "language": "python",
   "name": "python3"
  },
  "language_info": {
   "codemirror_mode": {
    "name": "ipython",
    "version": 3
   },
   "file_extension": ".py",
   "mimetype": "text/x-python",
   "name": "python",
   "nbconvert_exporter": "python",
   "pygments_lexer": "ipython3",
   "version": "3.8.5"
  }
 },
 "nbformat": 4,
 "nbformat_minor": 1
}
