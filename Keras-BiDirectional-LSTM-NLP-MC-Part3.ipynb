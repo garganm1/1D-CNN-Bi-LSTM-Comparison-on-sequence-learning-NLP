{
 "cells": [
  {
   "cell_type": "markdown",
   "metadata": {},
   "source": [
    "# Deep Learning for Article Classification with Publication using Kaggle Data\n",
    "\n",
    "Here is the link for data - https://www.kaggle.com/snapcrack/all-the-news (courtesy of Andrew Thompson)\n",
    "\n",
    "------------\n",
    "**This is the third part. A brief about the objective and dataset is given below. In the first part, we are done with data cleaning, processing, and its splitting into train and test sets. In the second part, we implemented 1-dimensional CNN on sequence of 4, 6 & 8 word vectors and obtained an accuracy of 87%. In this part, we shall implement Bi-directional LSTM on a subset of feature data and compare performance with 1-D CNN**\n",
    "\n",
    "**We are building a text classifier with Keras for the Kaggle dataset containing information such as title, author, publication and the content of the article. This data set includes several publications but we focus on top 5 publications (all US publishers) as labels acting for the title and content as features. Below is the description of labels.**\n",
    "\n",
    "    Label\tDescription\n",
    "    0\t    Breitbart\n",
    "    1\t    New York Post\n",
    "    2\t    NPR (National Public Radio)\n",
    "    3\t    Washington Post\n",
    "    4\t    Reuters"
   ]
  },
  {
   "cell_type": "code",
   "execution_count": 1,
   "metadata": {},
   "outputs": [],
   "source": [
    "## Importing relevant libraries\n",
    "\n",
    "from tensorflow.keras.models import Model, Sequential\n",
    "from tensorflow.keras.layers import Input\n",
    "from tensorflow.keras.layers import Dense\n",
    "from tensorflow.keras.layers import Flatten\n",
    "from tensorflow.keras.layers import Dropout\n",
    "from tensorflow.keras.layers import Embedding, LSTM, TimeDistributed\n",
    "from tensorflow.keras.layers import Bidirectional\n",
    "\n",
    "from tensorflow.keras.callbacks import EarlyStopping\n",
    "\n",
    "import tensorflow as tf\n",
    "\n",
    "import pickle\n",
    "import pandas as pd"
   ]
  },
  {
   "cell_type": "markdown",
   "metadata": {},
   "source": [
    "**Importing the encoded files from part-2**"
   ]
  },
  {
   "cell_type": "code",
   "execution_count": 2,
   "metadata": {},
   "outputs": [],
   "source": [
    "with open(\"./X_train_encoded.pkl\", 'rb') as f:\n",
    "    trainX = pickle.load(f)"
   ]
  },
  {
   "cell_type": "code",
   "execution_count": 3,
   "metadata": {},
   "outputs": [],
   "source": [
    "with open(\"./X_test_encoded.pkl\", 'rb') as f:\n",
    "    testX = pickle.load(f)"
   ]
  },
  {
   "cell_type": "code",
   "execution_count": 4,
   "metadata": {},
   "outputs": [],
   "source": [
    "length, vocab_size = 12052, 157706  # Values taken from above deduced variables"
   ]
  },
  {
   "cell_type": "code",
   "execution_count": 5,
   "metadata": {},
   "outputs": [],
   "source": [
    "y_train_cat = pd.read_pickle(\"./y_train_cat.pkl\").to_numpy()\n",
    "y_test_cat = pd.read_pickle(\"./y_test_cat.pkl\").to_numpy()"
   ]
  },
  {
   "cell_type": "code",
   "execution_count": 6,
   "metadata": {},
   "outputs": [
    {
     "data": {
      "text/plain": [
       "((52183, 12052), (22365, 12052))"
      ]
     },
     "execution_count": 6,
     "metadata": {},
     "output_type": "execute_result"
    }
   ],
   "source": [
    "trainX.shape, testX.shape"
   ]
  },
  {
   "cell_type": "code",
   "execution_count": 7,
   "metadata": {},
   "outputs": [
    {
     "data": {
      "text/plain": [
       "((52183, 5), (22365, 5))"
      ]
     },
     "execution_count": 7,
     "metadata": {},
     "output_type": "execute_result"
    }
   ],
   "source": [
    "y_train_cat.shape, y_test_cat.shape"
   ]
  },
  {
   "cell_type": "markdown",
   "metadata": {},
   "source": [
    "**Setting maximum length of vector as 500**"
   ]
  },
  {
   "cell_type": "code",
   "execution_count": 9,
   "metadata": {},
   "outputs": [],
   "source": [
    "max_len = 500"
   ]
  },
  {
   "cell_type": "markdown",
   "metadata": {},
   "source": [
    "**The architecture of the model is given below. A brief explanation -**\n",
    "\n",
    "An input shape of 500 length is chosen for each article which produces a 100 sized vector using the Embedding layer of each word\n",
    "\n",
    "The bi-directional LSTM layer then runs on the vectors to learn the sequences from both ends (forwards and backwards)\n",
    "\n",
    "The output is flattened and then fed to dense layers which finally produce the output of probability of 5 classes which get softmax activated finally\n",
    "\n",
    "This is a very simple architecture and can be even experimented to find better results"
   ]
  },
  {
   "cell_type": "code",
   "execution_count": 10,
   "metadata": {},
   "outputs": [],
   "source": [
    "input1 = Input(shape=(max_len,))\n",
    "\n",
    "model = Embedding(vocab_size, 100, input_length=max_len)(input1)\n",
    "\n",
    "model = Bidirectional (LSTM (128,return_sequences=True,dropout=0.50),merge_mode='concat')(model)\n",
    "\n",
    "model = Flatten()(model)\n",
    "\n",
    "model = Dense(10,activation='relu')(model)\n",
    "\n",
    "output = Dense(5,activation='softmax')(model)\n",
    "\n",
    "model = Model(input1,output)\n",
    "\n",
    "model.compile(loss='categorical_crossentropy',optimizer='adam', metrics=['accuracy'])"
   ]
  },
  {
   "cell_type": "code",
   "execution_count": 11,
   "metadata": {},
   "outputs": [
    {
     "name": "stdout",
     "output_type": "stream",
     "text": [
      "Model: \"model\"\n",
      "_________________________________________________________________\n",
      "Layer (type)                 Output Shape              Param #   \n",
      "=================================================================\n",
      "input_1 (InputLayer)         [(None, 500)]             0         \n",
      "_________________________________________________________________\n",
      "embedding (Embedding)        (None, 500, 100)          15770600  \n",
      "_________________________________________________________________\n",
      "bidirectional (Bidirectional (None, 500, 256)          234496    \n",
      "_________________________________________________________________\n",
      "flatten (Flatten)            (None, 128000)            0         \n",
      "_________________________________________________________________\n",
      "dense (Dense)                (None, 10)                1280010   \n",
      "_________________________________________________________________\n",
      "dense_1 (Dense)              (None, 5)                 55        \n",
      "=================================================================\n",
      "Total params: 17,285,161\n",
      "Trainable params: 17,285,161\n",
      "Non-trainable params: 0\n",
      "_________________________________________________________________\n"
     ]
    }
   ],
   "source": [
    "model.summary()"
   ]
  },
  {
   "cell_type": "markdown",
   "metadata": {},
   "source": [
    "**An early stop mechanism applied that stops training when val_loss stops reducing**"
   ]
  },
  {
   "cell_type": "code",
   "execution_count": 12,
   "metadata": {},
   "outputs": [],
   "source": [
    "earlystop = EarlyStopping(monitor='val_loss', patience=2)"
   ]
  },
  {
   "cell_type": "markdown",
   "metadata": {},
   "source": [
    "**Fitting the model with 10 epochs and batch_size of 32**"
   ]
  },
  {
   "cell_type": "code",
   "execution_count": 13,
   "metadata": {},
   "outputs": [
    {
     "name": "stdout",
     "output_type": "stream",
     "text": [
      "Epoch 1/10\n",
      "1631/1631 [==============================] - 3027s 2s/step - loss: 0.8480 - accuracy: 0.6860 - val_loss: 0.3773 - val_accuracy: 0.8693\n",
      "Epoch 2/10\n",
      "1631/1631 [==============================] - 3020s 2s/step - loss: 0.1869 - accuracy: 0.9385 - val_loss: 0.4249 - val_accuracy: 0.8681\n",
      "Epoch 3/10\n",
      "1631/1631 [==============================] - 2280s 1s/step - loss: 0.0717 - accuracy: 0.9768 - val_loss: 0.5186 - val_accuracy: 0.8602\n"
     ]
    },
    {
     "data": {
      "text/plain": [
       "<tensorflow.python.keras.callbacks.History at 0x200123cec10>"
      ]
     },
     "execution_count": 13,
     "metadata": {},
     "output_type": "execute_result"
    }
   ],
   "source": [
    "model.fit(trainX[:, :max_len], y_train_cat, epochs = 10, batch_size = 32, validation_data=(testX[:, :max_len], y_test_cat), callbacks=[earlystop])"
   ]
  },
  {
   "cell_type": "markdown",
   "metadata": {},
   "source": [
    "**Saving model and its weights**"
   ]
  },
  {
   "cell_type": "code",
   "execution_count": 30,
   "metadata": {},
   "outputs": [],
   "source": [
    "model.save('trial2.h5')\n",
    "\n",
    "model.save_weights('trial2_weights')"
   ]
  },
  {
   "cell_type": "markdown",
   "metadata": {},
   "source": [
    "## Model Evaluation"
   ]
  },
  {
   "cell_type": "code",
   "execution_count": 15,
   "metadata": {},
   "outputs": [
    {
     "data": {
      "text/html": [
       "<div>\n",
       "<style scoped>\n",
       "    .dataframe tbody tr th:only-of-type {\n",
       "        vertical-align: middle;\n",
       "    }\n",
       "\n",
       "    .dataframe tbody tr th {\n",
       "        vertical-align: top;\n",
       "    }\n",
       "\n",
       "    .dataframe thead th {\n",
       "        text-align: right;\n",
       "    }\n",
       "</style>\n",
       "<table border=\"1\" class=\"dataframe\">\n",
       "  <thead>\n",
       "    <tr style=\"text-align: right;\">\n",
       "      <th></th>\n",
       "      <th>loss</th>\n",
       "      <th>accuracy</th>\n",
       "      <th>val_loss</th>\n",
       "      <th>val_accuracy</th>\n",
       "    </tr>\n",
       "  </thead>\n",
       "  <tbody>\n",
       "    <tr>\n",
       "      <th>0</th>\n",
       "      <td>0.607174</td>\n",
       "      <td>0.786578</td>\n",
       "      <td>0.377319</td>\n",
       "      <td>0.869349</td>\n",
       "    </tr>\n",
       "    <tr>\n",
       "      <th>1</th>\n",
       "      <td>0.191740</td>\n",
       "      <td>0.935880</td>\n",
       "      <td>0.424902</td>\n",
       "      <td>0.868097</td>\n",
       "    </tr>\n",
       "    <tr>\n",
       "      <th>2</th>\n",
       "      <td>0.082179</td>\n",
       "      <td>0.972596</td>\n",
       "      <td>0.518565</td>\n",
       "      <td>0.860183</td>\n",
       "    </tr>\n",
       "  </tbody>\n",
       "</table>\n",
       "</div>"
      ],
      "text/plain": [
       "       loss  accuracy  val_loss  val_accuracy\n",
       "0  0.607174  0.786578  0.377319      0.869349\n",
       "1  0.191740  0.935880  0.424902      0.868097\n",
       "2  0.082179  0.972596  0.518565      0.860183"
      ]
     },
     "execution_count": 15,
     "metadata": {},
     "output_type": "execute_result"
    }
   ],
   "source": [
    "loss_acc_hist = pd.DataFrame(model.history.history)\n",
    "loss_acc_hist"
   ]
  },
  {
   "cell_type": "code",
   "execution_count": 16,
   "metadata": {},
   "outputs": [],
   "source": [
    "import matplotlib.pyplot as plt"
   ]
  },
  {
   "cell_type": "code",
   "execution_count": 17,
   "metadata": {},
   "outputs": [
    {
     "data": {
      "text/plain": [
       "<matplotlib.legend.Legend at 0x20014d58880>"
      ]
     },
     "execution_count": 17,
     "metadata": {},
     "output_type": "execute_result"
    },
    {
     "data": {
      "image/png": "[encoded data removed]",
      "text/plain": [
       "<Figure size 720x432 with 1 Axes>"
      ]
     },
     "metadata": {
      "needs_background": "light"
     },
     "output_type": "display_data"
    }
   ],
   "source": [
    "plt.figure(figsize=(10,6))\n",
    "plt.plot(loss_acc_hist['loss'], label='Training Loss')\n",
    "plt.plot( loss_acc_hist['val_loss'], label='Validation Loss')\n",
    "plt.legend()"
   ]
  },
  {
   "cell_type": "code",
   "execution_count": 18,
   "metadata": {},
   "outputs": [
    {
     "data": {
      "text/plain": [
       "<matplotlib.legend.Legend at 0x20014dc9d00>"
      ]
     },
     "execution_count": 18,
     "metadata": {},
     "output_type": "execute_result"
    },
    {
     "data": {
      "image/png": "[encoded data removed]",
      "text/plain": [
       "<Figure size 720x432 with 1 Axes>"
      ]
     },
     "metadata": {
      "needs_background": "light"
     },
     "output_type": "display_data"
    }
   ],
   "source": [
    "plt.figure(figsize=(10,6))\n",
    "plt.plot(loss_acc_hist['accuracy'], label='Training Accuracy')\n",
    "plt.plot( loss_acc_hist['val_accuracy'], label='Validation Accuracy')\n",
    "plt.legend()"
   ]
  },
  {
   "cell_type": "markdown",
   "metadata": {},
   "source": [
    "**Evaluating on Training Set**"
   ]
  },
  {
   "cell_type": "code",
   "execution_count": 19,
   "metadata": {},
   "outputs": [
    {
     "name": "stdout",
     "output_type": "stream",
     "text": [
      "1631/1631 [==============================] - 313s 192ms/step - loss: 0.0406 - accuracy: 0.9879\n"
     ]
    }
   ],
   "source": [
    "loss_train, acc_train = model.evaluate(trainX[:, :max_len], y_train_cat)"
   ]
  },
  {
   "cell_type": "markdown",
   "metadata": {},
   "source": [
    "**Evaluating on Testing Set**"
   ]
  },
  {
   "cell_type": "code",
   "execution_count": 20,
   "metadata": {},
   "outputs": [
    {
     "name": "stdout",
     "output_type": "stream",
     "text": [
      "699/699 [==============================] - 131s 188ms/step - loss: 0.5186 - accuracy: 0.8602\n"
     ]
    }
   ],
   "source": [
    "loss_test, acc_test = model.evaluate(testX[:, :max_len], y_test_cat)"
   ]
  },
  {
   "cell_type": "code",
   "execution_count": 21,
   "metadata": {},
   "outputs": [
    {
     "name": "stdout",
     "output_type": "stream",
     "text": [
      "Testing accuracy is: 86.01832985877991\n"
     ]
    }
   ],
   "source": [
    "print(\"Testing accuracy is:\", acc_test*100)"
   ]
  },
  {
   "cell_type": "markdown",
   "metadata": {},
   "source": [
    "**Computing Model's classification report and confusion Matrix**"
   ]
  },
  {
   "cell_type": "code",
   "execution_count": 23,
   "metadata": {},
   "outputs": [],
   "source": [
    "import numpy as np"
   ]
  },
  {
   "cell_type": "code",
   "execution_count": 24,
   "metadata": {},
   "outputs": [],
   "source": [
    "predictions = np.argmax(model.predict(testX[:, :max_len]), axis=-1)"
   ]
  },
  {
   "cell_type": "code",
   "execution_count": 25,
   "metadata": {},
   "outputs": [],
   "source": [
    "from sklearn.metrics import classification_report, confusion_matrix"
   ]
  },
  {
   "cell_type": "code",
   "execution_count": 26,
   "metadata": {},
   "outputs": [],
   "source": [
    "y_test = np.argmax(y_test_cat, axis=-1)"
   ]
  },
  {
   "cell_type": "code",
   "execution_count": 27,
   "metadata": {},
   "outputs": [
    {
     "name": "stdout",
     "output_type": "stream",
     "text": [
      "              precision    recall  f1-score   support\n",
      "\n",
      "           0       0.87      0.95      0.91      7099\n",
      "           1       0.82      0.75      0.78      3494\n",
      "           2       0.88      0.78      0.82      5244\n",
      "           3       0.99      0.96      0.97      3213\n",
      "           4       0.75      0.82      0.78      3315\n",
      "\n",
      "    accuracy                           0.86     22365\n",
      "   macro avg       0.86      0.85      0.85     22365\n",
      "weighted avg       0.86      0.86      0.86     22365\n",
      "\n"
     ]
    }
   ],
   "source": [
    "print(classification_report(y_test, predictions))"
   ]
  },
  {
   "cell_type": "code",
   "execution_count": 28,
   "metadata": {},
   "outputs": [],
   "source": [
    "import seaborn as sns\n",
    "import matplotlib.pyplot as plt"
   ]
  },
  {
   "cell_type": "code",
   "execution_count": 29,
   "metadata": {},
   "outputs": [
    {
     "data": {
      "text/plain": [
       "<AxesSubplot:>"
      ]
     },
     "execution_count": 29,
     "metadata": {},
     "output_type": "execute_result"
    },
    {
     "data": {
      "image/png": "[encoded data removed]",
      "text/plain": [
       "<Figure size 864x720 with 2 Axes>"
      ]
     },
     "metadata": {
      "needs_background": "light"
     },
     "output_type": "display_data"
    }
   ],
   "source": [
    "plt.figure(figsize=(12,10))\n",
    "sns.heatmap(confusion_matrix(y_test, predictions), annot=True, cmap='ocean')"
   ]
  },
  {
   "cell_type": "markdown",
   "metadata": {},
   "source": [
    "**The model has performed quite well (with some over-fitting maybe). No hyper-parameter tuning was involved though**\n",
    "\n",
    "**The performance is quite comparable with 1-D CNN model implemented in part-2**\n",
    "\n",
    "**This concludes the application of Text Classification with Bi-directional LSTM with simultaneous training of inputs (as Embedding layer)**\n",
    "\n",
    "**The results show that publications (and their authors) write titles and the articles in their own unique way which is quite distinctive from each other. The sequence of words being captured shows this!**"
   ]
  },
  {
   "cell_type": "code",
   "execution_count": null,
   "metadata": {},
   "outputs": [],
   "source": []
  }
 ],
 "metadata": {
  "kernelspec": {
   "display_name": "Python 3",
   "language": "python",
   "name": "python3"
  },
  "language_info": {
   "codemirror_mode": {
    "name": "ipython",
    "version": 3
   },
   "file_extension": ".py",
   "mimetype": "text/x-python",
   "name": "python",
   "nbconvert_exporter": "python",
   "pygments_lexer": "ipython3",
   "version": "3.8.5"
  }
 },
 "nbformat": 4,
 "nbformat_minor": 4
}
